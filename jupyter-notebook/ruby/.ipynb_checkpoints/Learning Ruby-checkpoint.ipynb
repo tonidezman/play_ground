{
 "cells": [
  {
   "cell_type": "code",
   "execution_count": 5,
   "metadata": {},
   "outputs": [],
   "source": [
    "if __FILE__ == $0\n",
    "  # execute this code only if you run\n",
    "  # this script\n",
    "end"
   ]
  },
  {
   "cell_type": "markdown",
   "metadata": {},
   "source": [
    "# Structs\n",
    "You can use Struct instead of Class if you only need to store\n",
    "some state."
   ]
  },
  {
   "cell_type": "code",
   "execution_count": 6,
   "metadata": {},
   "outputs": [
    {
     "name": "stdout",
     "output_type": "stream",
     "text": [
      "#<struct Fruit name=:carrot, cal=10>\n"
     ]
    },
    {
     "data": {
      "text/plain": [
       "#<struct Fruit name=:carrot, cal=10>"
      ]
     },
     "execution_count": 6,
     "metadata": {},
     "output_type": "execute_result"
    }
   ],
   "source": [
    "Fruit = Struct.new(:name, :cal)\n",
    "p Fruit.new(:carrot, 10)"
   ]
  },
  {
   "cell_type": "code",
   "execution_count": null,
   "metadata": {
    "collapsed": true
   },
   "outputs": [],
   "source": []
  }
 ],
 "metadata": {
  "kernelspec": {
   "display_name": "Ruby 2.5.0",
   "language": "ruby",
   "name": "ruby"
  },
  "language_info": {
   "file_extension": ".rb",
   "mimetype": "application/x-ruby",
   "name": "ruby",
   "version": "2.5.0"
  }
 },
 "nbformat": 4,
 "nbformat_minor": 2
}
